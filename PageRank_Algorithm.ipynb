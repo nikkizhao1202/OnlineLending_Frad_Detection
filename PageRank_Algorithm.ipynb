{
 "cells": [
  {
   "cell_type": "code",
   "execution_count": 6,
   "metadata": {},
   "outputs": [],
   "source": [
    "from numpy.linalg import norm\n",
    "from tqdm import tqdm\n",
    "import csv\n",
    "import numpy as np\n",
    "from scipy.sparse import spdiags\n",
    "import pandas as pd\n",
    "import seaborn as sns\n",
    "import matplotlib.pyplot as plt\n",
    "\n",
    "def row_normalize(A):\n",
    "    '''\n",
    "    Perform row-normalization of the given matrix\n",
    "    inputs\n",
    "        A : matrix\n",
    "        (n x n) input matrix where n is # of nodes\n",
    "    outputs\n",
    "        nA : matrix\n",
    "        (n x n) row-normalized matrix\n",
    "    '''\n",
    "    n = A.shape[0]\n",
    "\n",
    "    d = A.sum(axis=1)\n",
    "    d = np.asarray(d).flatten()\n",
    "\n",
    "    # handle 0 entries in d\n",
    "    d = np.maximum(d, np.ones(n))\n",
    "    invd = 1.0 / d\n",
    "\n",
    "    invD = spdiags(invd, 0, n, n)\n",
    "\n",
    "    # compute row normalized adjacency matrix by nA = invD * A\n",
    "    nA = invD.dot(A)\n",
    "\n",
    "    return nA\n",
    "\n",
    "def iterate(A, q, c=0.3, epsilon=1e-20,\n",
    "            max_iters=100, handles_deadend=True, norm_type=1):\n",
    "    \"\"\"\n",
    "    Perform power iteration for Personalized PageRank\n",
    "    inputs\n",
    "        A : matrix\n",
    "            input matrix\n",
    "        q : ndarray\n",
    "            query vector\n",
    "        c : float\n",
    "            restart probability\n",
    "        epsilon : float\n",
    "            error tolerance for power iteration\n",
    "        max_iters : int\n",
    "            maximum number of iterations for power iteration\n",
    "        handles_deadend : bool\n",
    "            if true, it will handle the deadend issue in power iteration\n",
    "            otherwise, it won't, i.e., no guarantee for sum of RWR scores\n",
    "            to be 1 in directed graphs\n",
    "        norm_type : int\n",
    "            type of norm used in measuring residual at each iteration\n",
    "    outputs\n",
    "        x : ndarray\n",
    "            result vector\n",
    "    \"\"\"\n",
    "    x = q\n",
    "    old_x = q\n",
    "    residuals = np.zeros(max_iters)\n",
    "\n",
    "    pbar = tqdm(total=max_iters)\n",
    "    for i in range(max_iters):\n",
    "        if handles_deadend:\n",
    "            x = (1 - c) * (A.dot(old_x))\n",
    "            S = np.sum(x)\n",
    "            x = x + (1 - S) * q\n",
    "        else:\n",
    "            x = (1 - c) * (A.dot(old_x)) + (c * q)\n",
    "\n",
    "        residuals[i] = norm(x - old_x, norm_type)\n",
    "        pbar.set_description(\"Residual at %d-iter: %e\" % (i, residuals[i]))\n",
    "\n",
    "        if residuals[i] <= epsilon:\n",
    "            pbar.set_description(\"The iteration has converged at %d-iter\" % (i))\n",
    "            #  pbar.update(max_iters)\n",
    "            break\n",
    "\n",
    "        old_x = x\n",
    "        pbar.update(1)\n",
    "\n",
    "    pbar.close()\n",
    "\n",
    "    return x, residuals[0:i + 1]"
   ]
  },
  {
   "cell_type": "code",
   "execution_count": 7,
   "metadata": {},
   "outputs": [
    {
     "name": "stderr",
     "output_type": "stream",
     "text": [
      "Residual at 999-iter: 6.973506e-17: 100%|██████████| 1000/1000 [11:24<00:00,  1.36it/s]\n"
     ]
    }
   ],
   "source": [
    "adj=np.load('adjacent_matrix_weighted.npy')\n",
    "N=len(adj)\n",
    "fea=np.load('feature_matrix_basic_full.npy')\n",
    "blacklist=fea[:,0]==1\n",
    "seeds=np.argwhere(np.logical_or(fea[:,3]>3,fea[:,0]==1))\n",
    "seeds=np.concatenate(seeds).tolist()\n",
    "q=np.zeros(N)\n",
    "q[seeds] = 1.0 / len(seeds)\n",
    "norm_adj=row_normalize(adj)\n",
    "result=iterate(norm_adj,q,c=0.5, epsilon=1e-40,\n",
    "            max_iters=1000, handles_deadend=True, norm_type=1)\n",
    "score=result[0].tolist()"
   ]
  },
  {
   "cell_type": "code",
   "execution_count": 9,
   "metadata": {},
   "outputs": [],
   "source": [
    "csvfile=open(\"score3_weighted.csv\", \"w\")\n",
    "w = csv.writer(csvfile)\n",
    "j=0\n",
    "for i in score:\n",
    "    w.writerow([j,i])\n",
    "    j+=1\n",
    "csvfile.close()"
   ]
  },
  {
   "cell_type": "code",
   "execution_count": 49,
   "metadata": {},
   "outputs": [
    {
     "data": {
      "text/plain": [
       "array([[0. , 0. , 0. , ..., 0. , 0. , 0. ],\n",
       "       [0. , 0. , 0. , ..., 0.6, 0. , 0.3],\n",
       "       [0. , 0. , 0. , ..., 0.9, 0. , 0.6],\n",
       "       ...,\n",
       "       [0. , 0.6, 0.9, ..., 0. , 0.6, 0.6],\n",
       "       [0. , 0. , 0. , ..., 0.6, 0. , 0. ],\n",
       "       [0. , 0.3, 0.6, ..., 0.6, 0. , 0. ]])"
      ]
     },
     "execution_count": 49,
     "metadata": {},
     "output_type": "execute_result"
    }
   ],
   "source": [
    "adj"
   ]
  },
  {
   "cell_type": "code",
   "execution_count": null,
   "metadata": {},
   "outputs": [],
   "source": []
  }
 ],
 "metadata": {
  "kernelspec": {
   "display_name": "Python 3",
   "language": "python",
   "name": "python3"
  },
  "language_info": {
   "codemirror_mode": {
    "name": "ipython",
    "version": 3
   },
   "file_extension": ".py",
   "mimetype": "text/x-python",
   "name": "python",
   "nbconvert_exporter": "python",
   "pygments_lexer": "ipython3",
   "version": "3.7.1"
  }
 },
 "nbformat": 4,
 "nbformat_minor": 2
}
