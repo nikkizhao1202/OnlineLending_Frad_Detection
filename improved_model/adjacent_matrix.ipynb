{
 "cells": [
  {
   "cell_type": "code",
   "execution_count": 7,
   "metadata": {},
   "outputs": [],
   "source": [
    "import json\n",
    "import numpy as np\n",
    "import pandas as pd\n",
    "import itertools"
   ]
  },
  {
   "cell_type": "code",
   "execution_count": 8,
   "metadata": {},
   "outputs": [
    {
     "name": "stdout",
     "output_type": "stream",
     "text": [
      "CPU times: user 1min 42s, sys: 1min 6s, total: 2min 48s\n",
      "Wall time: 4min 23s\n"
     ]
    }
   ],
   "source": [
    "%%time\n",
    "graph_data = []\n",
    "with open('dataForGraph.txt', 'r') as f:  \n",
    "    for line in f:\n",
    "        graph_data.append(json.loads(line))"
   ]
  },
  {
   "cell_type": "code",
   "execution_count": null,
   "metadata": {},
   "outputs": [],
   "source": [
    "print(len(graph_data))\n",
    "print(graph_data[0].keys())"
   ]
  },
  {
   "cell_type": "code",
   "execution_count": null,
   "metadata": {},
   "outputs": [],
   "source": [
    "graph_ = sorted(graph_data, key = lambda x: x['apply_info']['apply_time'])"
   ]
  },
  {
   "cell_type": "code",
   "execution_count": null,
   "metadata": {},
   "outputs": [],
   "source": [
    "graph_data = graph_"
   ]
  },
  {
   "cell_type": "code",
   "execution_count": null,
   "metadata": {},
   "outputs": [],
   "source": [
    "N = len(graph_data)\n",
    "adjacent_matrix = np.zeros((N, N))"
   ]
  },
  {
   "cell_type": "code",
   "execution_count": null,
   "metadata": {},
   "outputs": [],
   "source": [
    "# device relationship\n",
    "def iterate_device(application_id):\n",
    "    a = graph_data[application_id]\n",
    "    device_set = {a['apply_info']['apply_device_id']}.union(set(a['device_info']['device_id']))\n",
    "    device_info = [(application_id, d) for d in device_set]\n",
    "    return device_info\n",
    "\n",
    "device_origin = [iterate_device(i) for i in range(len(graph_data))]\n",
    "device_df = pd.DataFrame([y for x in device_origin for y in x],\n",
    "                         columns = ['application_id', 'device_id'])\n",
    "def concat_relation(x):\n",
    "    return set(x['application_id'].values)\n",
    "device_relation = device_df.groupby('device_id').apply(concat_relation).to_dict()\n",
    "for v in device_relation.values():\n",
    "    if len(v) > 1:\n",
    "        for (i, j) in itertools.combinations(v, 2):\n",
    "            if not adjacent_matrix[i, j]:\n",
    "                adjacent_matrix[i, j] = 0.3\n",
    "                adjacent_matrix[j, i] = 0.3"
   ]
  },
  {
   "cell_type": "code",
   "execution_count": null,
   "metadata": {},
   "outputs": [],
   "source": [
    "# user relationship\n",
    "def iterate_user(application_id):\n",
    "    a = graph_data[application_id]\n",
    "    user_id = a['apply_info']['apply_user_id']\n",
    "    user_info = [(application_id, user_id)]\n",
    "    return user_info\n",
    "\n",
    "user_origin = [iterate_user(i) for i in range(len(graph_data))]\n",
    "user_df = pd.DataFrame([y for x in user_origin for y in x],\n",
    "                         columns = ['application_id', 'user_id'])\n",
    "def concat_relation(x):\n",
    "    return set(x['application_id'].values)\n",
    "user_relation = user_df.groupby('user_id').apply(concat_relation).to_dict()\n",
    "for v in user_relation.values():\n",
    "    if len(v) > 1:\n",
    "        for (i, j) in itertools.combinations(v, 2):\n",
    "#             if not adjacent_matrix[i, j]:\n",
    "            adjacent_matrix[i, j] += 0.1\n",
    "            adjacent_matrix[j, i] += 0.1"
   ]
  },
  {
   "cell_type": "code",
   "execution_count": null,
   "metadata": {},
   "outputs": [],
   "source": [
    "# idfa relationship\n",
    "def iterate_idfa(application_id):\n",
    "    a = graph_data[application_id]\n",
    "    idfa_set = set(a['device_info']['idfa'])\n",
    "    idfa_info = [(application_id, i) for i in idfa_set]\n",
    "    return idfa_info\n",
    "\n",
    "idfa_origin = [iterate_idfa(i) for i in range(len(graph_data))]\n",
    "idfa_df = pd.DataFrame([y for x in idfa_origin for y in x],\n",
    "                         columns = ['application_id', 'idfa'])\n",
    "def concat_relation(x):\n",
    "    return set(x['application_id'].values)\n",
    "idfa_relation = idfa_df.groupby('idfa').apply(concat_relation).to_dict()\n",
    "for v in idfa_relation.values():\n",
    "    if len(v) > 1:\n",
    "        for (i, j) in itertools.combinations(v, 2):\n",
    "#             if not adjacent_matrix[i, j]:\n",
    "            adjacent_matrix[i, j] += 0.1\n",
    "            adjacent_matrix[j, i] += 0.1"
   ]
  },
  {
   "cell_type": "code",
   "execution_count": null,
   "metadata": {},
   "outputs": [],
   "source": [
    "# idfv relationship\n",
    "def iterate_idfv(application_id):\n",
    "    a = graph_data[application_id]\n",
    "    idfv_set = set(a['device_info']['idfv'])\n",
    "    idfv_info = [(application_id, i) for i in idfv_set]\n",
    "    return idfv_info\n",
    "\n",
    "idfv_origin = [iterate_idfv(i) for i in range(len(graph_data))]\n",
    "idfv_df = pd.DataFrame([y for x in idfv_origin for y in x],\n",
    "                         columns = ['application_id', 'idfv'])\n",
    "def concat_relation(x):\n",
    "    return set(x['application_id'].values)\n",
    "idfv_relation = idfv_df.groupby('idfv').apply(concat_relation).to_dict()\n",
    "for v in idfv_relation.values():\n",
    "    if len(v) > 1:\n",
    "        for (i, j) in itertools.combinations(v, 2):\n",
    "#             if not adjacent_matrix[i, j]:\n",
    "            adjacent_matrix[i, j] += 0.1\n",
    "            adjacent_matrix[j, i] += 0.1"
   ]
  },
  {
   "cell_type": "code",
   "execution_count": null,
   "metadata": {},
   "outputs": [],
   "source": [
    "# mac relationship\n",
    "def iterate_mac(application_id):\n",
    "    a = graph_data[application_id]\n",
    "    mac_set = set(a['device_info']['mac'])\n",
    "    mac_info = [(application_id, m) for m in mac_set]\n",
    "    return mac_info\n",
    "\n",
    "mac_origin = [iterate_mac(i) for i in range(len(graph_data))]\n",
    "mac_df = pd.DataFrame([y for x in mac_origin for y in x],\n",
    "                         columns = ['application_id', 'mac'])\n",
    "def concat_relation(x):\n",
    "    return set(x['application_id'].values)\n",
    "mac_relation = mac_df.groupby('mac').apply(concat_relation).to_dict()\n",
    "for v in mac_relation.values():\n",
    "    if len(v) > 1:\n",
    "        for (i, j) in itertools.combinations(v, 2):\n",
    "#             if not adjacent_matrix[i, j]:\n",
    "            adjacent_matrix[i, j] += 0.3\n",
    "            adjacent_matrix[j, i] += 0.3"
   ]
  },
  {
   "cell_type": "code",
   "execution_count": null,
   "metadata": {},
   "outputs": [],
   "source": [
    "# imsi relationship\n",
    "def iterate_imsi(application_id):\n",
    "    a = graph_data[application_id]\n",
    "    imsi_set = set(a['device_info']['imsi'])\n",
    "    imsi_info = [(application_id, i) for i in imsi_set]\n",
    "    return imsi_info\n",
    "\n",
    "imsi_origin = [iterate_imsi(i) for i in range(len(graph_data))]\n",
    "imsi_df = pd.DataFrame([y for x in imsi_origin for y in x],\n",
    "                         columns = ['application_id', 'imsi'])\n",
    "def concat_relation(x):\n",
    "    return set(x['application_id'].values)\n",
    "imsi_relation = imsi_df.groupby('imsi').apply(concat_relation).to_dict()\n",
    "for v in imsi_relation.values():\n",
    "    if len(v) > 1:\n",
    "        for (i, j) in itertools.combinations(v, 2):\n",
    "#             if not adjacent_matrix[i, j]:\n",
    "            adjacent_matrix[i, j] += 0.1\n",
    "            adjacent_matrix[j, i] += 0.1"
   ]
  },
  {
   "cell_type": "code",
   "execution_count": null,
   "metadata": {},
   "outputs": [],
   "source": [
    "# phone relationship\n",
    "def iterate_phone(application_id):\n",
    "    a = graph_data[application_id]\n",
    "    phone_set = set(a['device_info']['phone'])\n",
    "    phone_info = [(application_id, p) for p in phone_set]\n",
    "    return phone_info\n",
    "\n",
    "phone_origin = [iterate_phone(i) for i in range(len(graph_data))]\n",
    "phone_df = pd.DataFrame([y for x in phone_origin for y in x],\n",
    "                         columns = ['application_id', 'phone'])\n",
    "def concat_relation(x):\n",
    "    return set(x['application_id'].values)\n",
    "phone_relation = phone_df.groupby('phone').apply(concat_relation).to_dict()\n",
    "for v in phone_relation.values():\n",
    "    if len(v) > 1:\n",
    "        for (i, j) in itertools.combinations(v, 2):\n",
    "            adjacent_matrix[i, j] = min(1, adjacent_matrix[i, j]+0.3)\n",
    "            adjacent_matrix[j, i] = min(1, adjacent_matrix[j, i]+0.3)"
   ]
  },
  {
   "cell_type": "code",
   "execution_count": null,
   "metadata": {},
   "outputs": [],
   "source": [
    "# contact relationship\n",
    "# def iterate_contact(application_id):\n",
    "#     a = graph_data[application_id]\n",
    "#     phone_set = set(a['device_info']['phone'])\n",
    "#     contact_set = set(a['contacts_info'].keys())\n",
    "#     contact_info = [(application_id, p, c) for p in phone_set for c in contact_set]\n",
    "#     return contact_info\n",
    "\n",
    "# contact_origin = [iterate_contact(i) for i in range(len(graph_data))]\n",
    "# contact_df = pd.DataFrame([y for x in contact_origin for y in x],\n",
    "#                          columns=['application_id', 'phone', 'contact'])\n",
    "# def concat_relation(x):\n",
    "#     return set(x['application_id'].values)\n",
    "# phone_relation = contact_df.groupby('phone').apply(concat_relation).to_dict()\n",
    "# for item in contact_df.values:\n",
    "#     if phone_relation.get(item[2]):\n",
    "#         for i in phone_relation[item[2]]:\n",
    "#             if not adjacent_matrix[item[0], i]:\n",
    "#                 adjacent_matrix[item[0], i] = 1\n",
    "#                 adjacent_matrix[i, item[0]] = 1"
   ]
  },
  {
   "cell_type": "code",
   "execution_count": null,
   "metadata": {},
   "outputs": [],
   "source": [
    "# contact relationship\n",
    "def iterate_contact(application_id):\n",
    "    a = graph_data[application_id]\n",
    "    contact_set = set(a['contacts_info'].keys())\n",
    "    contact_info = [(application_id, c) for c in contact_set]\n",
    "    return contact_info\n",
    "\n",
    "contact_origin = [iterate_contact(i) for i in range(len(graph_data))]\n",
    "contact_df = pd.DataFrame([y for x in contact_origin for y in x],\n",
    "                         columns=['application_id', 'contact'])\n",
    "def concat_relation(x):\n",
    "    return set(x['application_id'].values)\n",
    "contact_relation = contact_df.groupby('contact').apply(concat_relation).to_dict()\n",
    "for v in contact_relation.values():\n",
    "    if len(v) > 1:\n",
    "        for (i, j) in itertools.combinations(v, 2):\n",
    "            adjacent_matrix[i, j] = min(1, adjacent_matrix[i, j]+0.1)\n",
    "            adjacent_matrix[j, i] = min(1, adjacent_matrix[j, i]+0.1)"
   ]
  },
  {
   "cell_type": "code",
   "execution_count": null,
   "metadata": {},
   "outputs": [],
   "source": [
    "# call relationship\n",
    "def iterate_call(application_id):\n",
    "    a = graph_data[application_id]\n",
    "    call_set = set()\n",
    "    for c in a['calls_info']:\n",
    "        if c.get('num_md5') and c['type'] in ('1', '2'): \n",
    "            call_set.add(c['num_md5'])\n",
    "    call_info = [(application_id, c) for c in call_set]\n",
    "    return call_info\n",
    "\n",
    "call_origin = [iterate_call(i) for i in range(len(graph_data))]\n",
    "call_df = pd.DataFrame([y for x in call_origin for y in x],\n",
    "                         columns=['application_id', 'call'])\n",
    "def concat_relation(x):\n",
    "    return set(x['application_id'].values)\n",
    "call_relation = call_df.groupby('call').apply(concat_relation).to_dict()\n",
    "for v in call_relation.values():\n",
    "    if len(v) > 1:\n",
    "        for (i, j) in itertools.combinations(v, 2):\n",
    "            adjacent_matrix[i, j] = min(1, adjacent_matrix[i, j]+0.3)\n",
    "            adjacent_matrix[j, i] = min(1, adjacent_matrix[j, i]+0.3)"
   ]
  },
  {
   "cell_type": "code",
   "execution_count": null,
   "metadata": {},
   "outputs": [],
   "source": [
    "for i in range(N):\n",
    "    for j in range(N):\n",
    "        adjacent_matrix[i, j]=min(1, adjacent_matrix[i, j])"
   ]
  },
  {
   "cell_type": "code",
   "execution_count": null,
   "metadata": {},
   "outputs": [],
   "source": [
    "np.save('adjacent_matrix', adjacent_matrix)"
   ]
  },
  {
   "cell_type": "code",
   "execution_count": null,
   "metadata": {},
   "outputs": [],
   "source": []
  }
 ],
 "metadata": {
  "kernelspec": {
   "display_name": "Python 3",
   "language": "python",
   "name": "python3"
  },
  "language_info": {
   "codemirror_mode": {
    "name": "ipython",
    "version": 3
   },
   "file_extension": ".py",
   "mimetype": "text/x-python",
   "name": "python",
   "nbconvert_exporter": "python",
   "pygments_lexer": "ipython3",
   "version": "3.7.3"
  },
  "nbTranslate": {
   "displayLangs": [
    "*"
   ],
   "hotkey": "alt-t",
   "langInMainMenu": true,
   "sourceLang": "en",
   "targetLang": "fr",
   "useGoogleTranslate": true
  },
  "varInspector": {
   "cols": {
    "lenName": 16,
    "lenType": 16,
    "lenVar": 40
   },
   "kernels_config": {
    "python": {
     "delete_cmd_postfix": "",
     "delete_cmd_prefix": "del ",
     "library": "var_list.py",
     "varRefreshCmd": "print(var_dic_list())"
    },
    "r": {
     "delete_cmd_postfix": ") ",
     "delete_cmd_prefix": "rm(",
     "library": "var_list.r",
     "varRefreshCmd": "cat(var_dic_list()) "
    }
   },
   "types_to_exclude": [
    "module",
    "function",
    "builtin_function_or_method",
    "instance",
    "_Feature"
   ],
   "window_display": false
  }
 },
 "nbformat": 4,
 "nbformat_minor": 2
}
